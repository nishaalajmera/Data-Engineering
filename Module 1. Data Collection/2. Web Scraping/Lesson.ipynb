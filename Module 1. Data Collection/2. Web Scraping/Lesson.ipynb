{
 "cells": [
  {
   "cell_type": "markdown",
   "metadata": {},
   "source": [
    "# Web Scraping\n",
    "\n",
    "## Learning Outcomes:\n",
    "- Learn the structure of HTML\n",
    "- Learn how to use XPath to navigate HTML (via lxml)\n",
    "- Use Selenium to scrape data from websites\n",
    "\n",
    "One of the most common ways to obtain data is through the use of **web scraping**. Web scraping, as the name suggests, is about pulling information from websites in a programmatic fashion... (because copy and pasting would be way too much effort)"
   ]
  },
  {
   "cell_type": "markdown",
   "metadata": {},
   "source": [
    "## The challenge\n",
    "\n",
    "Let's say we wanted to build a model which would predict house prices given some features - for example, location, number of bedrooms, number of bathrooms. We need some way of obtaining this data - both the response and the target variables.\n",
    "\n",
    "To introduce you to the concept of web scraping, let's try and extract data for 100 houses:\n",
    "- **Sale Price**: Our response variable\n",
    "- Number of bedrooms\n",
    "- Square footage\n",
    "- Description\n",
    "- Address\n",
    "    \n",
    "[This URL shows houses listed for sale in London](https://www.zoopla.co.uk/new-homes/property/london/?q=London&results_sort=newest_listings&search_source=new-homes&page_size=25&pn=1&view_type=list). Let's take a look at where the information that we want to extract is on the webpage.\n",
    "\n",
    "Before we look at solving this challenge, let's take a look at what websites and HTML actually are."
   ]
  },
  {
   "cell_type": "markdown",
   "metadata": {},
   "source": [
    "## Websites\n",
    "\n",
    "### What format does information on a website exist in?\n",
    "\n",
    "We know that websites don't just print data in a nice CSV or JSON format. \n",
    "They have content to display stuff to you in a way that makes sense, like buttons, on the page. \n",
    "This content is defined in a HTML file.\n",
    "\n",
    "They also have styling\n",
    "\n",
    "#### What is HTML?\n",
    "\n",
    "HTML stands for HyperText Markup Language. It consists of a tree structure of different types of web elements, like buttons, page divisions, images and more. This means that it is used to define what **content** is rendered on any webpage that you visit.\n",
    "\n",
    "HTML markdown contains elements/tags that may contain other elements/tags.\n",
    "\n",
    "\n",
    "[Let's play around with some HTML](https://code.sololearn.com/WoNr8gIeKYDr/)\n",
    "\n",
    "### How can we get the website HTML, which contains data that we want?\n",
    "\n",
    "When you search for a URL in a browser, here's what happens:\n",
    "- your browser makes a **GET request** to the computer (server) that serves requests from that URL endpoint\n",
    "- this computer knows what web content to send you back, so it sends it in a response to the request. This stuff includes the HTML of the page that you want to view.\n",
    "- Your browser gets the HTML, and knows how to present that type of data to you (it renders the webpage)\n",
    "\n",
    "The point here being that you can get the HTML, which defines the content for any site, by making a GET request to that website.\n",
    "\n",
    "Let's try that!\n",
    "\n",
    "We can use the requests library to get the HTML from a website"
   ]
  },
  {
   "cell_type": "code",
   "execution_count": 1,
   "metadata": {
    "tags": [
     "outputPrepend"
    ]
   },
   "outputs": [
    {
     "name": "stdout",
     "output_type": "stream",
     "text": [
      "<html>\n",
      "<head>\n",
      "<style>\n",
      "img{\n",
      "\twidth:75px;\n",
      "}\n",
      "table{\n",
      "\twidth:50%;\n",
      "}\n",
      "td{\n",
      "\tmargin:10px;\n",
      "\tpadding:10px;\n",
      "}\n",
      ".wrapper{\n",
      "\twidth:800px;\n",
      "}\n",
      ".excitingNote{\n",
      "\tfont-style:italic;\n",
      "\tfont-weight:bold;\n",
      "}\n",
      "</style>\n",
      "</head>\n",
      "<body>\n",
      "<div id=\"wrapper\">\n",
      "<img src=\"../img/gifts/logo.jpg\" style=\"float:left;\">\n",
      "<h1>Totally Normal Gifts</h1>\n",
      "<div id=\"content\">Here is a collection of totally normal, totally reasonable gifts that your friends are sure to love! Our collection is\n",
      "hand-curated by well-paid, free-range Tibetan monks.<p>\n",
      "We haven't figured out how to make online shopping carts yet, but you can send us a check to:<br>\n",
      "123 Main St.<br>\n",
      "Abuja, Nigeria\n",
      "</br>We will then send your totally amazing gift, pronto! Please include an extra $5.00 for gift wrapping.</div>\n",
      "<table id=\"giftList\">\n",
      "<tr><th>\n",
      "Item Title\n",
      "</th><th>\n",
      "Description\n",
      "</th><th>\n",
      "Cost\n",
      "</th><th>\n",
      "Image\n",
      "</th></tr>\n",
      "\n",
      "<tr id=\"gift1\" class=\"gift\"><td>\n",
      "Vegetable Basket\n",
      "</td><td>\n",
      "This vegetable basket is the perfect gift for your health conscious (or overweight) friends!\n",
      "<span class=\"excitingNote\">Now with super-colorful bell peppers!</span>\n",
      "</td><td>\n",
      "$15.00\n",
      "</td><td>\n",
      "<img src=\"../img/gifts/img1.jpg\">\n",
      "</td></tr>\n",
      "\n",
      "<tr id=\"gift2\" class=\"gift\"><td>\n",
      "Russian Nesting Dolls\n",
      "</td><td>\n",
      "Hand-painted by trained monkeys, these exquisite dolls are priceless! And by \"priceless,\" we mean \"extremely expensive\"! <span class=\"excitingNote\">8 entire dolls per set! Octuple the presents!</span>\n",
      "</td><td>\n",
      "$10,000.52\n",
      "</td><td>\n",
      "<img src=\"../img/gifts/img2.jpg\">\n",
      "</td></tr>\n",
      "\n",
      "<tr id=\"gift3\" class=\"gift\"><td>\n",
      "Fish Painting\n",
      "</td><td>\n",
      "If something seems fishy about this painting, it's because it's a fish! <span class=\"excitingNote\">Also hand-painted by trained monkeys!</span>\n",
      "</td><td>\n",
      "$10,005.00\n",
      "</td><td>\n",
      "<img src=\"../img/gifts/img3.jpg\">\n",
      "</td></tr>\n",
      "\n",
      "<tr id=\"gift4\" class=\"gift\"><td>\n",
      "Dead Parrot\n",
      "</td><td>\n",
      "This is an ex-parrot! <span class=\"excitingNote\">Or maybe he's only resting?</span>\n",
      "</td><td>\n",
      "$0.50\n",
      "</td><td>\n",
      "<img src=\"../img/gifts/img4.jpg\">\n",
      "</td></tr>\n",
      "\n",
      "<tr id=\"gift5\" class=\"gift\"><td>\n",
      "Mystery Box\n",
      "</td><td>\n",
      "If you love suprises, this mystery box is for you! Do not place on light-colored surfaces. May cause oil staining. <span class=\"excitingNote\">Keep your friends guessing!</span>\n",
      "</td><td>\n",
      "$1.50\n",
      "</td><td>\n",
      "<img src=\"../img/gifts/img6.jpg\">\n",
      "</td></tr>\n",
      "</table>\n",
      "</p>\n",
      "<div id=\"footer\">\n",
      "&copy; Totally Normal Gifts, Inc. <br>\n",
      "+234 (617) 863-0736\n",
      "</div>\n",
      "\n",
      "</div>\n",
      "</body>\n",
      "</html>\n",
      "\n"
     ]
    }
   ],
   "source": [
    "import requests # import the requests library\n",
    "r = requests.get('http://pythonscraping.com/pages/page3.html') # make a HTTP GET request to this website\n",
    "html_string = r.text # the text attribute of this response is the HTML as a string\n",
    "print(r.text)"
   ]
  },
  {
   "cell_type": "markdown",
   "metadata": {},
   "source": [
    "# BeautifulSoup"
   ]
  },
  {
   "cell_type": "markdown",
   "metadata": {},
   "source": [
    "What we saw above only gives us the HTML, but we want to be able to extract the data from it. After requesting the data from the webpage, we obtain a string of HTML, but looking for some specific data is a bit of a pain. We can use the **BeautifulSoup** library to extract the data from the HTML looking for specific tags and their attributes."
   ]
  },
  {
   "cell_type": "code",
   "execution_count": 3,
   "metadata": {},
   "outputs": [
    {
     "name": "stdout",
     "output_type": "stream",
     "text": [
      "<html>\n",
      " <head>\n",
      "  <style>\n",
      "   img{\n",
      "\twidth:75px;\n",
      "}\n",
      "table{\n",
      "\twidth:50%;\n",
      "}\n",
      "td{\n",
      "\tmargin:10px;\n",
      "\tpadding:10px;\n",
      "}\n",
      ".wrapper{\n",
      "\twidth:800px;\n",
      "}\n",
      ".excitingNote{\n",
      "\tfont-style:italic;\n",
      "\tfont-weight:bold;\n",
      "}\n",
      "  </style>\n",
      " </head>\n",
      " <body>\n",
      "  <div id=\"wrapper\">\n",
      "   <img src=\"../img/gifts/logo.jpg\" style=\"float:left;\"/>\n",
      "   <h1>\n",
      "    Totally Normal Gifts\n",
      "   </h1>\n",
      "   <div id=\"content\">\n",
      "    Here is a collection of totally normal, totally reasonable gifts that your friends are sure to love! Our collection is\n",
      "hand-curated by well-paid, free-range Tibetan monks.\n",
      "    <p>\n",
      "     We haven't figured out how to make online shopping carts yet, but you can send us a check to:\n",
      "     <br/>\n",
      "     123 Main St.\n",
      "     <br/>\n",
      "     Abuja, Nigeria\n",
      "We will then send your totally amazing gift, pronto! Please include an extra $5.00 for gift wrapping.\n",
      "    </p>\n",
      "   </div>\n",
      "   <table id=\"giftList\">\n",
      "    <tr>\n",
      "     <th>\n",
      "      Item Title\n",
      "     </th>\n",
      "     <th>\n",
      "      Description\n",
      "     </th>\n",
      "     <th>\n",
      "      Cost\n",
      "     </th>\n",
      "     <th>\n",
      "      Image\n",
      "     </th>\n",
      "    </tr>\n",
      "    <tr class=\"gift\" id=\"gift1\">\n",
      "     <td>\n",
      "      Vegetable Basket\n",
      "     </td>\n",
      "     <td>\n",
      "      This vegetable basket is the perfect gift for your health conscious (or overweight) friends!\n",
      "      <span class=\"excitingNote\">\n",
      "       Now with super-colorful bell peppers!\n",
      "      </span>\n",
      "     </td>\n",
      "     <td>\n",
      "      $15.00\n",
      "     </td>\n",
      "     <td>\n",
      "      <img src=\"../img/gifts/img1.jpg\"/>\n",
      "     </td>\n",
      "    </tr>\n",
      "    <tr class=\"gift\" id=\"gift2\">\n",
      "     <td>\n",
      "      Russian Nesting Dolls\n",
      "     </td>\n",
      "     <td>\n",
      "      Hand-painted by trained monkeys, these exquisite dolls are priceless! And by \"priceless,\" we mean \"extremely expensive\"!\n",
      "      <span class=\"excitingNote\">\n",
      "       8 entire dolls per set! Octuple the presents!\n",
      "      </span>\n",
      "     </td>\n",
      "     <td>\n",
      "      $10,000.52\n",
      "     </td>\n",
      "     <td>\n",
      "      <img src=\"../img/gifts/img2.jpg\"/>\n",
      "     </td>\n",
      "    </tr>\n",
      "    <tr class=\"gift\" id=\"gift3\">\n",
      "     <td>\n",
      "      Fish Painting\n",
      "     </td>\n",
      "     <td>\n",
      "      If something seems fishy about this painting, it's because it's a fish!\n",
      "      <span class=\"excitingNote\">\n",
      "       Also hand-painted by trained monkeys!\n",
      "      </span>\n",
      "     </td>\n",
      "     <td>\n",
      "      $10,005.00\n",
      "     </td>\n",
      "     <td>\n",
      "      <img src=\"../img/gifts/img3.jpg\"/>\n",
      "     </td>\n",
      "    </tr>\n",
      "    <tr class=\"gift\" id=\"gift4\">\n",
      "     <td>\n",
      "      Dead Parrot\n",
      "     </td>\n",
      "     <td>\n",
      "      This is an ex-parrot!\n",
      "      <span class=\"excitingNote\">\n",
      "       Or maybe he's only resting?\n",
      "      </span>\n",
      "     </td>\n",
      "     <td>\n",
      "      $0.50\n",
      "     </td>\n",
      "     <td>\n",
      "      <img src=\"../img/gifts/img4.jpg\"/>\n",
      "     </td>\n",
      "    </tr>\n",
      "    <tr class=\"gift\" id=\"gift5\">\n",
      "     <td>\n",
      "      Mystery Box\n",
      "     </td>\n",
      "     <td>\n",
      "      If you love suprises, this mystery box is for you! Do not place on light-colored surfaces. May cause oil staining.\n",
      "      <span class=\"excitingNote\">\n",
      "       Keep your friends guessing!\n",
      "      </span>\n",
      "     </td>\n",
      "     <td>\n",
      "      $1.50\n",
      "     </td>\n",
      "     <td>\n",
      "      <img src=\"../img/gifts/img6.jpg\"/>\n",
      "     </td>\n",
      "    </tr>\n",
      "   </table>\n",
      "   <div id=\"footer\">\n",
      "    © Totally Normal Gifts, Inc.\n",
      "    <br/>\n",
      "    +234 (617) 863-0736\n",
      "   </div>\n",
      "  </div>\n",
      " </body>\n",
      "</html>\n",
      "\n"
     ]
    }
   ],
   "source": [
    "import requests\n",
    "from bs4 import BeautifulSoup\n",
    "page = requests.get('http://pythonscraping.com/pages/page3.html')\n",
    "html = page.text # Get the content of the webpage\n",
    "soup = BeautifulSoup(html, 'html.parser') # Convert that into a BeautifulSoup object that contains methods to make the tag searcg easier\n",
    "print(soup.prettify())"
   ]
  },
  {
   "cell_type": "markdown",
   "metadata": {},
   "source": [
    "Let's see an example using the following URL `'http://pythonscraping.com/pages/page3.html'`\n",
    "\n",
    "In that webpage you will find a small list with a set of items. Let's say that you want to extract the data from the Fish Painting.\n",
    "\n",
    "<p align=\"center\">\n",
    "  <img src='images/BS4_1.png' width=500>\n",
    "</p>\n"
   ]
  },
  {
   "cell_type": "markdown",
   "metadata": {},
   "source": [
    "In your browser, you can see that the HTML for the page is in the `<body>` tag. Let's see how we can extract the data from this HTML. In the page, right-click on the `<body>` tag and select **Inspect Element**. There, you will see the HTML for the page, and you can see that the Fish Painting is in a `<tr>` tag.\n",
    "\n",
    "<p align=\"center\">\n",
    "  <img src='images/BS4_2.png' width=500>\n",
    "</p>"
   ]
  },
  {
   "cell_type": "markdown",
   "metadata": {},
   "source": [
    "You can find that tag using the method `find` that accepts the tag name, and the attributes of said tag"
   ]
  },
  {
   "cell_type": "code",
   "execution_count": null,
   "metadata": {},
   "outputs": [],
   "source": [
    "fish = soup.find(name='tr', attrs={'id': 'gift3', 'class': 'gift'}) # If it doesn't find anything it returns None\n",
    "\n",
    "print(fish)"
   ]
  },
  {
   "cell_type": "markdown",
   "metadata": {},
   "source": [
    "Inside the `tr` tag, you will find different `<td>` tags. You can find all the `<td>` tags using the method `find_all` that accepts the tag name and the attributes of said tag."
   ]
  },
  {
   "cell_type": "code",
   "execution_count": null,
   "metadata": {},
   "outputs": [],
   "source": [
    "fish_row = fish.find_all('td') # This returns a list where each item corresponds to each td tag "
   ]
  },
  {
   "cell_type": "markdown",
   "metadata": {},
   "source": [
    "Now, you obtained a list where each element correponds to the data for each column. Thus, you can index the list to get the data you want."
   ]
  },
  {
   "cell_type": "code",
   "execution_count": null,
   "metadata": {},
   "outputs": [],
   "source": [
    "title = fish_row[0].text\n",
    "description = fish_row[1].text\n",
    "price = fish_row[2].text\n",
    "\n",
    "print(title)\n",
    "print(description)\n",
    "print(price)"
   ]
  },
  {
   "cell_type": "markdown",
   "metadata": {},
   "source": [
    "You can keep looking for more data in the tree. For example, you can look for the parrot row taking into account that it is the sibling of the fish row."
   ]
  },
  {
   "cell_type": "code",
   "execution_count": null,
   "metadata": {},
   "outputs": [],
   "source": [
    "parrot = fish.find_next_sibling()"
   ]
  },
  {
   "cell_type": "markdown",
   "metadata": {},
   "source": [
    "And you can also find the parrot's children using the method `findChildren`:"
   ]
  },
  {
   "cell_type": "code",
   "execution_count": null,
   "metadata": {},
   "outputs": [],
   "source": [
    "parrot_children = parrot.findChildren()"
   ]
  },
  {
   "cell_type": "markdown",
   "metadata": {},
   "source": [
    "# Challenge: What is a Method?"
   ]
  },
  {
   "cell_type": "markdown",
   "metadata": {},
   "source": [
    "It is time to apply what you have learned so far about BeautifulSoup. Go to the following page, and look information about the `Methods` section. [https://en.wikipedia.org/wiki/Python_(programming_language)](https://en.wikipedia.org/wiki/Python_(programming_language))\n",
    "\n",
    "You only need to extract the text from that section."
   ]
  },
  {
   "cell_type": "markdown",
   "metadata": {},
   "source": [
    "<p align=\"center\">\n",
    "  <img src='images/BS4_3.png' width=500>\n",
    "</p>"
   ]
  },
  {
   "cell_type": "markdown",
   "metadata": {},
   "source": [
    "_Tip_: The `p` tag containing the text does not have any attributes. Try looking at the `h3` tag before it, or the `a` child tag. From there, you can start moving around."
   ]
  },
  {
   "cell_type": "markdown",
   "metadata": {},
   "source": [
    "# Finding tree elements within a `HTMLElement` using xpath\n",
    "\n",
    "Xpath is a query language for selecting nodes/branches/elements within a tree-like data structure like HTML or XML. \n",
    "\n",
    "Below is a very simple xpath expression. This one finds all of the button elements in the html\n",
    "\n",
    "#### `//button` \n",
    "\n",
    "The `//` says \"anywhere in the tree\" and the `button` says find elements that have the tag type button. So this xpath expression says \"find button tags anywhere within the tree\"\n",
    "\n",
    "The `xpath` method of `HTMLElement` takes in an xpath expression returns a list of all elements in the tree that match it.\n",
    "\n",
    "Below are more examples of how to use xpath\n",
    "\n",
    "`/button` find **child** (not all) tags of type button, of the element\n",
    "\n",
    "`//div/button` - finds all of the button tags inside div tags anywhere on the page\n",
    "\n",
    "`//div[@id='custom_id']` - finds all div tags with the attribute (`@`) `id` equal to `custom_id`, anywhere on the page \n",
    "\n",
    "If any of these don't make sense, let us know after [looking it up](https://www.w3schools.com/xml/xpath_syntax.asp).\n",
    "\n",
    "Use the `//button` xpath expression as an argument to find the button on the page"
   ]
  },
  {
   "cell_type": "code",
   "execution_count": null,
   "metadata": {},
   "outputs": [],
   "source": [
    "%%bash\n",
    "pip install selenium"
   ]
  },
  {
   "cell_type": "markdown",
   "metadata": {},
   "source": [
    "## Using the developer console to identify the right xpath\n",
    "\n",
    "### How to open the console\n",
    "\n",
    "Modern browsers come with tools to maximise web developers productivity and help find bugs.\n",
    "\n",
    "The developer console has a lot of different tools. \n",
    "\n",
    "Open your element inspector by pressing `CTRL + SHIFT + C`.\n",
    "It should open on the right hand side of your screen as shown below.\n",
    "\n",
    "The elements tab of the developer console shows you the HTML and CSS that make up the website code (actually it shows the DOM. Read more about what exactly the DOM is [here](https://css-tricks.com/dom/)).\n",
    "\n",
    "You can always close the developer console by clicking the cross in the corner. \n",
    "\n",
    "Check out the zoopla website for yourself. Try using your selector to see the HTML structure of the page.\n",
    "![](./images/form_selector.png)\n",
    "\n",
    "Now use your selector to find the location of the button as shown below.\n",
    "\n",
    "![](./images/button_selector.png)\n",
    "\n",
    "As mentioned, the selector allows us to visualise the DOM and find elements within our webpage.\n",
    "\n",
    "\n",
    "### Challenge: How many HTML buttons are there on the homepage? "
   ]
  },
  {
   "cell_type": "markdown",
   "metadata": {},
   "source": [
    "### We can find elements, and then search for elements within them!\n",
    "\n",
    "Elements returned from finding them by xpath also have the same search methods. They are the same object type.\n",
    "\n",
    "### We can search for elements in more ways than just xpath\n",
    "\n",
    "There are loads of ways to find elements within HTML.\n",
    "\n",
    "Let's check what methods and properties of our tree object exist by calling the built-in `dir()` method."
   ]
  },
  {
   "cell_type": "markdown",
   "metadata": {},
   "source": [
    "## Beyond just GETTING static HTML\n",
    "\n",
    "\n",
    "### Why might using requests to get the website content not work?\n",
    "\n",
    "Some elements on webpages are inserted or manipulated by javascript code that runs only after the HTML is rendered.\n",
    "\n",
    "Some information that you want may be shown only after interacting with certain elements.\n",
    "\n",
    "The GET requests to the website just get the HTML file. They don't actually run the javascript code, or interact with the page after it renders. So parsing them for our data won't work.\n",
    "\n",
    "Again, there is a way around this. We can use a library called Selenium to take control of a browser that can then be programatically instructed to fill in forms, click elements, and find data on any webpage.\n",
    "\n",
    "## Selenium\n",
    "\n",
    "Selenium is a tool for programmatically controlling a browser. It's originally intended to be used for creating unit tests, but it can also be used to do anything that needs a browser to be controlled.\n",
    "\n",
    "Check out the docs [here](https://selenium-python.readthedocs.io/)\n",
    "\n",
    "### Webdriving\n",
    "\n",
    "Selenium can \"drive\" a web browser. This means it can take full control of it and, find elements, click, scroll, execute js etc.\n",
    "\n",
    "You need to specify which browsers this webdriver will drive such as Chrome or Firefox. To drive a browser you need to have the driver installed. We'll use the chrome browser and download it's driver called Chromedriver.\n",
    "\n",
    "We'll have to install chromedriver to drive our chrome browser. You should ensure you have the correct version, which should be the same as the version of chrome which you wish to drive. \n",
    "\n",
    "[Check your chrome version here](https://help.zenplanner.com/hc/en-us/articles/204253654-How-to-Find-Your-Internet-Browser-Version-Number-Google-Chrome)\n",
    "\n",
    "[Download chromedriver from here](https://chromedriver.chromium.org/downloads)\n",
    "\n",
    "If you are using FireFox, you need to download the geckodriver. You can download it from [here](https://github.com/mozilla/geckodriver/releases)\n",
    "\n",
    "If you are using Edge, you need to download the MicrosoftWebDriver. You can download it from [here](https://developer.microsoft.com/en-us/microsoft-edge/tools/webdriver/)\n",
    "\n",
    "If you are using Safari, you can go to your browser, go to `Developer`, and set the \"Allow Remote Automation\" to \"Yes\"."
   ]
  },
  {
   "cell_type": "markdown",
   "metadata": {},
   "source": [
    "Once you download the driver, you can move it to the Python Path. This will make things easier when you have to work in different directories. To move it to the path, you can do the following command:\n",
    "\n",
    "1. Observe your `PATH` environment variable by running `echo $PATH`:\n"
   ]
  },
  {
   "cell_type": "code",
   "execution_count": 6,
   "metadata": {},
   "outputs": [
    {
     "name": "stdout",
     "output_type": "stream",
     "text": [
      "/opt/miniconda3/bin:/opt/miniconda3/condabin:/usr/local/bin:/usr/bin:/bin:/usr/sbin:/sbin\n"
     ]
    }
   ],
   "source": [
    "%%bash\n",
    "echo $PATH"
   ]
  },
  {
   "cell_type": "markdown",
   "metadata": {},
   "source": [
    "2. Move your driver file to any of the directories in your `PATH` environment variable. For example, if you are using `/usr/local/bin` as your `PATH` environment variable, you can move the driver to `/usr/local/bin` by running `mv chromedriver /usr/local/bin`. Make sure to replace `chromedriver` with the name of your driver."
   ]
  },
  {
   "cell_type": "code",
   "execution_count": 1,
   "metadata": {},
   "outputs": [],
   "source": [
    "from selenium import webdriver\n",
    "from time import sleep\n",
    "\n",
    "driver = webdriver.Chrome()\n",
    "driver.get(\"https://zoopla.co.uk\")"
   ]
  },
  {
   "cell_type": "markdown",
   "metadata": {},
   "source": [
    "Cool! We see that we've navigated to the Zoopla.co.uk website. We can search for elements via `xpath` and can also send mouse and keyboard actions through Selenium as well. Let's recall the challenge we want to solve - extracting data for 50 houses:\n",
    "- **Sale Price**: Our response variable\n",
    "- Number of bedrooms\n",
    "- Square footage\n",
    "- Description\n",
    "- Address\n",
    "\n",
    "We'll focus our efforts just in the London area"
   ]
  },
  {
   "cell_type": "code",
   "execution_count": 2,
   "metadata": {},
   "outputs": [],
   "source": [
    "driver = webdriver.Chrome() \n",
    "URL = \"https://www.zoopla.co.uk/new-homes/property/london/?q=London&results_sort=newest_listings&search_source=new-homes&page_size=25&pn=1&view_type=list\"\n",
    "driver.get(URL)"
   ]
  },
  {
   "cell_type": "markdown",
   "metadata": {},
   "source": [
    "Oh... Looks like cookies are blocking us... We need to find a way to get around this 🤔. Let's start by using xpath to find the \"Accept All Cookies\" button"
   ]
  },
  {
   "cell_type": "code",
   "execution_count": 4,
   "metadata": {},
   "outputs": [
    {
     "name": "stdout",
     "output_type": "stream",
     "text": [
      "Accept all cookies\n"
     ]
    }
   ],
   "source": [
    "## Find the \"Accept all cookies button\"\n",
    "try:\n",
    "    accept_cookies = driver.find_element_by_xpath('//*[@id=\"cookie-consent-form\"]/div/div/div/button[2]')\n",
    "    print(accept_cookies.text)\n",
    "except:\n",
    "    pass"
   ]
  },
  {
   "cell_type": "code",
   "execution_count": 5,
   "metadata": {},
   "outputs": [],
   "source": [
    "accept_cookies.click()"
   ]
  },
  {
   "cell_type": "markdown",
   "metadata": {},
   "source": [
    "Looks like there's more than one element - we can find the one we want by searching for the \"Accept all cookies\" text"
   ]
  },
  {
   "cell_type": "code",
   "execution_count": 10,
   "metadata": {},
   "outputs": [
    {
     "name": "stdout",
     "output_type": "stream",
     "text": [
      "£550,000\n",
      "Walnut Road, Walthamstow E10\n",
      "4 beds\n",
      "Icon Estates are delighted to offer for sale this four-bedroom terraced house.\n",
      "The property is located in the very popular location of Leyton.\n",
      "This property offers great size throughout and has through lounge, 4 bedrooms, dining room / kitchen, 1 family bathroom, 1WC, partially paved garden and a conservatory. This property is suitable for a family, investors or first-time buyers. It is close to all local amenities including schools, parks and shops.\n",
      "\n",
      "Bedroom 1 - 3.82m x 3.44m (12'53\" x 11'29\")\n",
      "Bedroom 2 - 2.25m x 3.95m (7'38\" x 12'96\")\n",
      "Bedroom 3 - 3.83m x 2.27m (12'57\" x 7'45\")\n",
      "Bedroom 4 - 3.83m x 2.85m (12'57\" x 9'35\")\n",
      "Kitchen - 3.99m x 2.71m (13'1\" x 8'89\")\n",
      "Living / Dining Room - 3.45m x 3.85m (11'32\" x 12'63\")\n",
      "Bathroom - 1.48m x 2.38m (4'86\" x 7'81\")\n",
      "- 0.84m x 1.54m (2'76\" x 5'05\")\n",
      "\n",
      "Garden - Partially paved garden at the back.\n",
      "\n",
      "Disclaimer:\n",
      "\n",
      "The information provided about this property does not constitute or form part of any offer or contract, nor may it be relied upon as representations or statements of fact. All measurements are approximate and should be used as a guide only. Any systems, services or appliances listed herein have not been tested by us and therefore we cannot verify or guarantee they are in working order. Details of planning and building regulations for any works carried out on the property should be specifically verified by the purchasers’ conveyancer or solicitor, as should tenure/lease information (where appropriate)\n"
     ]
    }
   ],
   "source": [
    "price = driver.find_element_by_xpath('//span[@data-testid=\"price\"]').text\n",
    "print(price)\n",
    "address = driver.find_element_by_xpath('//span[@data-testid=\"address-label\"]').text\n",
    "print(address)\n",
    "bedrooms = driver.find_element_by_xpath('//span[@data-testid=\"beds-label\"]').text\n",
    "print(bedrooms)\n",
    "div_tag = driver.find_element_by_xpath('//div[@data-testid=\"truncated_text_container\"]')\n",
    "span_tag = div_tag.find_element_by_xpath('.//span')\n",
    "description = span_tag.text\n",
    "print(description)"
   ]
  },
  {
   "cell_type": "markdown",
   "metadata": {},
   "source": [
    "Now that we have a button, we can send a click action to it!"
   ]
  },
  {
   "cell_type": "code",
   "execution_count": 11,
   "metadata": {},
   "outputs": [
    {
     "name": "stdout",
     "output_type": "stream",
     "text": [
      "Icon Estates are delighted to offer for sale this four-bedroom terraced house.\n",
      "The property is located in the very popular location of Leyton.\n",
      "This property offers great size throughout and has through lounge, 4 bedrooms, dining room / kitchen, 1 family bathroom, 1WC, partially paved garden and a conservatory. This property is suitable for a family, investors or first-time buyers. It is close to all local amenities including schools, parks and shops.\n",
      "\n",
      "Bedroom 1 - 3.82m x 3.44m (12'53\" x 11'29\")\n",
      "Bedroom 2 - 2.25m x 3.95m (7'38\" x 12'96\")\n",
      "Bedroom 3 - 3.83m x 2.27m (12'57\" x 7'45\")\n",
      "Bedroom 4 - 3.83m x 2.85m (12'57\" x 9'35\")\n",
      "Kitchen - 3.99m x 2.71m (13'1\" x 8'89\")\n",
      "Living / Dining Room - 3.45m x 3.85m (11'32\" x 12'63\")\n",
      "Bathroom - 1.48m x 2.38m (4'86\" x 7'81\")\n",
      "- 0.84m x 1.54m (2'76\" x 5'05\")\n",
      "\n",
      "Garden - Partially paved garden at the back.\n",
      "\n",
      "Disclaimer:\n",
      "\n",
      "The information provided about this property does not constitute or form part of any offer or contract, nor may it be relied upon as representations or statements of fact. All measurements are approximate and should be used as a guide only. Any systems, services or appliances listed herein have not been tested by us and therefore we cannot verify or guarantee they are in working order. Details of planning and building regulations for any works carried out on the property should be specifically verified by the purchasers’ conveyancer or solicitor, as should tenure/lease information (where appropriate)\n"
     ]
    }
   ],
   "source": [
    "dict_properties = {'Price': [], 'Address': [], 'Bedrooms': [], 'Sqft': [], 'Description': []}\n",
    "price = driver.find_element_by_xpath('//span[@data-testid=\"price\"]').text\n",
    "dict_properties['Price'].append(price)\n",
    "address = driver.find_element_by_xpath('//span[@data-testid=\"address-label\"]').text\n",
    "dict_properties['Address'].append(address)\n",
    "bedrooms = driver.find_element_by_xpath('//span[@data-testid=\"beds-label\"]').text\n",
    "dict_properties['Bedrooms'].append(bedrooms)\n",
    "div_tag = driver.find_element_by_xpath('//div[@data-testid=\"truncated_text_container\"]')\n",
    "span_tag = div_tag.find_element_by_xpath('.//span')\n",
    "description = span_tag.text\n",
    "print(description)"
   ]
  },
  {
   "cell_type": "code",
   "execution_count": 13,
   "metadata": {},
   "outputs": [
    {
     "name": "stdout",
     "output_type": "stream",
     "text": [
      "{'Price': ['£550,000'], 'Address': ['Walnut Road, Walthamstow E10'], 'Bedrooms': ['4 beds'], 'Sqft': [None], 'Description': []}\n"
     ]
    }
   ],
   "source": [
    "dict_properties['Sqft'].append(None)\n",
    "print(dict_properties)"
   ]
  },
  {
   "cell_type": "code",
   "execution_count": 14,
   "metadata": {},
   "outputs": [],
   "source": [
    "driver.back()"
   ]
  },
  {
   "cell_type": "markdown",
   "metadata": {},
   "source": [
    "Awesome! Selenium will allow us to do many other things, such as scroll, click, and send keystrokes. For example, you can run the following cells one by one and observe the results."
   ]
  },
  {
   "cell_type": "code",
   "execution_count": 7,
   "metadata": {},
   "outputs": [],
   "source": [
    "from selenium import webdriver\n",
    "from selenium.webdriver.common.keys import Keys\n",
    "driver = webdriver.Chrome()\n",
    "\n",
    "driver.get(\"http://www.python.org\")"
   ]
  },
  {
   "cell_type": "markdown",
   "metadata": {},
   "source": [
    "You are in the official Python Webpage, let's scroll down to the bottom of the page."
   ]
  },
  {
   "cell_type": "code",
   "execution_count": null,
   "metadata": {},
   "outputs": [],
   "source": [
    "driver.execute_script(\"window.scrollTo(0, document.body.scrollHeight);\")"
   ]
  },
  {
   "cell_type": "markdown",
   "metadata": {},
   "source": [
    "The next cell will look for the search bar and click it."
   ]
  },
  {
   "cell_type": "code",
   "execution_count": 9,
   "metadata": {},
   "outputs": [],
   "source": [
    "search_bar = driver.find_element_by_xpath('//*[@id=\"id-search-field\"]')\n",
    "search_bar.click()"
   ]
  },
  {
   "cell_type": "markdown",
   "metadata": {},
   "source": [
    "Now that you clicked it, you can send a keystroke to the search bar."
   ]
  },
  {
   "cell_type": "code",
   "execution_count": 10,
   "metadata": {},
   "outputs": [],
   "source": [
    "search_bar.send_keys(\"method\")"
   ]
  },
  {
   "cell_type": "markdown",
   "metadata": {},
   "source": [
    "And once you enter the text, you can 'Press Enter'"
   ]
  },
  {
   "cell_type": "code",
   "execution_count": 11,
   "metadata": {},
   "outputs": [],
   "source": [
    "search_bar.send_keys(Keys.RETURN)"
   ]
  },
  {
   "cell_type": "markdown",
   "metadata": {},
   "source": [
    "Good stuff. With that in mind, we can keep going with the Zoopla challenge."
   ]
  },
  {
   "cell_type": "code",
   "execution_count": 13,
   "metadata": {},
   "outputs": [
    {
     "name": "stdout",
     "output_type": "stream",
     "text": [
      "[]\n"
     ]
    }
   ],
   "source": [
    "from selenium import webdriver\n",
    "import time\n",
    "\n",
    "driver = webdriver.Chrome() \n",
    "URL = \"https://www.zoopla.co.uk/new-homes/property/london/?q=London&results_sort=newest_listings&search_source=new-homes&page_size=25&pn=1&view_type=list\"\n",
    "driver.get(URL)\n",
    "accept_cookies = driver.find_elements_by_xpath('//button[@data-responsibility=\"acceptAll\"]')\n",
    "for button in accept_cookies:\n",
    "    if button.text == \"Accept all cookies\":\n",
    "        relevant_button = button\n",
    "\n",
    "relevant_button.click()\n",
    "# Send your driver to sleep before doing anything else, so the webpage doesn't suspect you are a bot\n",
    "\n",
    "time.sleep(2)\n",
    "\n",
    "properties = driver.find_elements_by_xpath(\"//ul[@class='listing-results clearfix js-gtm-list']/li\")\n",
    "print(properties)"
   ]
  },
  {
   "cell_type": "markdown",
   "metadata": {},
   "source": [
    "From looking at the website, we can see that to access the full descsription, we need to navigate to the actual page of the listing. Let's create a dictionary which we can use to store all of the acquired data, and a for loop which will loop over the properties we've just obtained extract the relevant data."
   ]
  },
  {
   "cell_type": "code",
   "execution_count": 15,
   "metadata": {},
   "outputs": [],
   "source": [
    "def load_and_accept_cookies():\n",
    "        \n",
    "    driver = webdriver.Chrome() \n",
    "    URL = \"https://www.zoopla.co.uk/new-homes/property/london/?q=London&results_sort=newest_listings&search_source=new-homes&page_size=25&pn=1&view_type=list\"\n",
    "    driver.get(URL)\n",
    "    accept_cookies = driver.find_elements_by_xpath('//button[@data-responsibility=\"acceptAll\"]')\n",
    "    for button in accept_cookies:\n",
    "        if button.text == \"Accept all cookies\":\n",
    "            relevant_button = button\n",
    "\n",
    "    relevant_button.click()\n",
    "    return driver"
   ]
  },
  {
   "cell_type": "code",
   "execution_count": 22,
   "metadata": {},
   "outputs": [],
   "source": [
    "driver = webdriver.Chrome() \n",
    "URL = \"https://www.zoopla.co.uk/new-homes/property/london/?q=London&results_sort=newest_listings&search_source=new-homes&page_size=25&pn=1&view_type=list\"\n",
    "driver.get(URL)\n",
    "accept_cookies = driver.find_elements_by_xpath('//button[@data-responsibility=\"acceptAll\"]')\n",
    "for button in accept_cookies:\n",
    "    if button.text == \"Accept all cookies\":\n",
    "        relevant_button = button\n",
    "\n",
    "relevant_button.click()\n",
    "# prop_container = driver.find_element_by_xpath('//div[@class=\"css-kdnpqc-ListingsContainer earci3d2\"]')"
   ]
  },
  {
   "cell_type": "code",
   "execution_count": 25,
   "metadata": {},
   "outputs": [
    {
     "name": "stdout",
     "output_type": "stream",
     "text": [
      "25\n"
     ]
    }
   ],
   "source": [
    "prop_container = driver.find_element_by_xpath('//div[@class=\"css-kdnpqc-ListingsContainer earci3d2\"]')\n",
    "prop_list = prop_container.find_elements_by_xpath('./div')\n",
    "print(len(prop_list))"
   ]
  },
  {
   "cell_type": "code",
   "execution_count": 26,
   "metadata": {},
   "outputs": [
    {
     "ename": "KeyboardInterrupt",
     "evalue": "",
     "output_type": "error",
     "traceback": [
      "\u001b[0;31m---------------------------------------------------------------------------\u001b[0m",
      "\u001b[0;31mKeyboardInterrupt\u001b[0m                         Traceback (most recent call last)",
      "\u001b[0;32m<ipython-input-26-b12e9baef248>\u001b[0m in \u001b[0;36m<module>\u001b[0;34m\u001b[0m\n\u001b[1;32m     16\u001b[0m     \u001b[0mhouse\u001b[0m\u001b[0;34m.\u001b[0m\u001b[0mclick\u001b[0m\u001b[0;34m(\u001b[0m\u001b[0;34m)\u001b[0m\u001b[0;34m\u001b[0m\u001b[0;34m\u001b[0m\u001b[0m\n\u001b[1;32m     17\u001b[0m     \u001b[0mtime\u001b[0m\u001b[0;34m.\u001b[0m\u001b[0msleep\u001b[0m\u001b[0;34m(\u001b[0m\u001b[0;36m5\u001b[0m\u001b[0;34m)\u001b[0m\u001b[0;34m\u001b[0m\u001b[0;34m\u001b[0m\u001b[0m\n\u001b[0;32m---> 18\u001b[0;31m     \u001b[0mdriver\u001b[0m\u001b[0;34m.\u001b[0m\u001b[0mback\u001b[0m\u001b[0;34m(\u001b[0m\u001b[0;34m)\u001b[0m\u001b[0;34m\u001b[0m\u001b[0;34m\u001b[0m\u001b[0m\n\u001b[0m",
      "\u001b[0;32m/opt/miniconda3/lib/python3.9/site-packages/selenium/webdriver/remote/webdriver.py\u001b[0m in \u001b[0;36mback\u001b[0;34m(self)\u001b[0m\n\u001b[1;32m    811\u001b[0m             \u001b[0mdriver\u001b[0m\u001b[0;34m.\u001b[0m\u001b[0mback\u001b[0m\u001b[0;34m(\u001b[0m\u001b[0;34m)\u001b[0m\u001b[0;34m\u001b[0m\u001b[0;34m\u001b[0m\u001b[0m\n\u001b[1;32m    812\u001b[0m         \"\"\"\n\u001b[0;32m--> 813\u001b[0;31m         \u001b[0mself\u001b[0m\u001b[0;34m.\u001b[0m\u001b[0mexecute\u001b[0m\u001b[0;34m(\u001b[0m\u001b[0mCommand\u001b[0m\u001b[0;34m.\u001b[0m\u001b[0mGO_BACK\u001b[0m\u001b[0;34m)\u001b[0m\u001b[0;34m\u001b[0m\u001b[0;34m\u001b[0m\u001b[0m\n\u001b[0m\u001b[1;32m    814\u001b[0m \u001b[0;34m\u001b[0m\u001b[0m\n\u001b[1;32m    815\u001b[0m     \u001b[0;32mdef\u001b[0m \u001b[0mforward\u001b[0m\u001b[0;34m(\u001b[0m\u001b[0mself\u001b[0m\u001b[0;34m)\u001b[0m\u001b[0;34m:\u001b[0m\u001b[0;34m\u001b[0m\u001b[0;34m\u001b[0m\u001b[0m\n",
      "\u001b[0;32m/opt/miniconda3/lib/python3.9/site-packages/selenium/webdriver/remote/webdriver.py\u001b[0m in \u001b[0;36mexecute\u001b[0;34m(self, driver_command, params)\u001b[0m\n\u001b[1;32m    317\u001b[0m \u001b[0;34m\u001b[0m\u001b[0m\n\u001b[1;32m    318\u001b[0m         \u001b[0mparams\u001b[0m \u001b[0;34m=\u001b[0m \u001b[0mself\u001b[0m\u001b[0;34m.\u001b[0m\u001b[0m_wrap_value\u001b[0m\u001b[0;34m(\u001b[0m\u001b[0mparams\u001b[0m\u001b[0;34m)\u001b[0m\u001b[0;34m\u001b[0m\u001b[0;34m\u001b[0m\u001b[0m\n\u001b[0;32m--> 319\u001b[0;31m         \u001b[0mresponse\u001b[0m \u001b[0;34m=\u001b[0m \u001b[0mself\u001b[0m\u001b[0;34m.\u001b[0m\u001b[0mcommand_executor\u001b[0m\u001b[0;34m.\u001b[0m\u001b[0mexecute\u001b[0m\u001b[0;34m(\u001b[0m\u001b[0mdriver_command\u001b[0m\u001b[0;34m,\u001b[0m \u001b[0mparams\u001b[0m\u001b[0;34m)\u001b[0m\u001b[0;34m\u001b[0m\u001b[0;34m\u001b[0m\u001b[0m\n\u001b[0m\u001b[1;32m    320\u001b[0m         \u001b[0;32mif\u001b[0m \u001b[0mresponse\u001b[0m\u001b[0;34m:\u001b[0m\u001b[0;34m\u001b[0m\u001b[0;34m\u001b[0m\u001b[0m\n\u001b[1;32m    321\u001b[0m             \u001b[0mself\u001b[0m\u001b[0;34m.\u001b[0m\u001b[0merror_handler\u001b[0m\u001b[0;34m.\u001b[0m\u001b[0mcheck_response\u001b[0m\u001b[0;34m(\u001b[0m\u001b[0mresponse\u001b[0m\u001b[0;34m)\u001b[0m\u001b[0;34m\u001b[0m\u001b[0;34m\u001b[0m\u001b[0m\n",
      "\u001b[0;32m/opt/miniconda3/lib/python3.9/site-packages/selenium/webdriver/remote/remote_connection.py\u001b[0m in \u001b[0;36mexecute\u001b[0;34m(self, command, params)\u001b[0m\n\u001b[1;32m    372\u001b[0m         \u001b[0mdata\u001b[0m \u001b[0;34m=\u001b[0m \u001b[0mutils\u001b[0m\u001b[0;34m.\u001b[0m\u001b[0mdump_json\u001b[0m\u001b[0;34m(\u001b[0m\u001b[0mparams\u001b[0m\u001b[0;34m)\u001b[0m\u001b[0;34m\u001b[0m\u001b[0;34m\u001b[0m\u001b[0m\n\u001b[1;32m    373\u001b[0m         \u001b[0murl\u001b[0m \u001b[0;34m=\u001b[0m \u001b[0;34m'%s%s'\u001b[0m \u001b[0;34m%\u001b[0m \u001b[0;34m(\u001b[0m\u001b[0mself\u001b[0m\u001b[0;34m.\u001b[0m\u001b[0m_url\u001b[0m\u001b[0;34m,\u001b[0m \u001b[0mpath\u001b[0m\u001b[0;34m)\u001b[0m\u001b[0;34m\u001b[0m\u001b[0;34m\u001b[0m\u001b[0m\n\u001b[0;32m--> 374\u001b[0;31m         \u001b[0;32mreturn\u001b[0m \u001b[0mself\u001b[0m\u001b[0;34m.\u001b[0m\u001b[0m_request\u001b[0m\u001b[0;34m(\u001b[0m\u001b[0mcommand_info\u001b[0m\u001b[0;34m[\u001b[0m\u001b[0;36m0\u001b[0m\u001b[0;34m]\u001b[0m\u001b[0;34m,\u001b[0m \u001b[0murl\u001b[0m\u001b[0;34m,\u001b[0m \u001b[0mbody\u001b[0m\u001b[0;34m=\u001b[0m\u001b[0mdata\u001b[0m\u001b[0;34m)\u001b[0m\u001b[0;34m\u001b[0m\u001b[0;34m\u001b[0m\u001b[0m\n\u001b[0m\u001b[1;32m    375\u001b[0m \u001b[0;34m\u001b[0m\u001b[0m\n\u001b[1;32m    376\u001b[0m     \u001b[0;32mdef\u001b[0m \u001b[0m_request\u001b[0m\u001b[0;34m(\u001b[0m\u001b[0mself\u001b[0m\u001b[0;34m,\u001b[0m \u001b[0mmethod\u001b[0m\u001b[0;34m,\u001b[0m \u001b[0murl\u001b[0m\u001b[0;34m,\u001b[0m \u001b[0mbody\u001b[0m\u001b[0;34m=\u001b[0m\u001b[0;32mNone\u001b[0m\u001b[0;34m)\u001b[0m\u001b[0;34m:\u001b[0m\u001b[0;34m\u001b[0m\u001b[0;34m\u001b[0m\u001b[0m\n",
      "\u001b[0;32m/opt/miniconda3/lib/python3.9/site-packages/selenium/webdriver/remote/remote_connection.py\u001b[0m in \u001b[0;36m_request\u001b[0;34m(self, method, url, body)\u001b[0m\n\u001b[1;32m    395\u001b[0m \u001b[0;34m\u001b[0m\u001b[0m\n\u001b[1;32m    396\u001b[0m         \u001b[0;32mif\u001b[0m \u001b[0mself\u001b[0m\u001b[0;34m.\u001b[0m\u001b[0mkeep_alive\u001b[0m\u001b[0;34m:\u001b[0m\u001b[0;34m\u001b[0m\u001b[0;34m\u001b[0m\u001b[0m\n\u001b[0;32m--> 397\u001b[0;31m             \u001b[0mresp\u001b[0m \u001b[0;34m=\u001b[0m \u001b[0mself\u001b[0m\u001b[0;34m.\u001b[0m\u001b[0m_conn\u001b[0m\u001b[0;34m.\u001b[0m\u001b[0mrequest\u001b[0m\u001b[0;34m(\u001b[0m\u001b[0mmethod\u001b[0m\u001b[0;34m,\u001b[0m \u001b[0murl\u001b[0m\u001b[0;34m,\u001b[0m \u001b[0mbody\u001b[0m\u001b[0;34m=\u001b[0m\u001b[0mbody\u001b[0m\u001b[0;34m,\u001b[0m \u001b[0mheaders\u001b[0m\u001b[0;34m=\u001b[0m\u001b[0mheaders\u001b[0m\u001b[0;34m)\u001b[0m\u001b[0;34m\u001b[0m\u001b[0;34m\u001b[0m\u001b[0m\n\u001b[0m\u001b[1;32m    398\u001b[0m \u001b[0;34m\u001b[0m\u001b[0m\n\u001b[1;32m    399\u001b[0m             \u001b[0mstatuscode\u001b[0m \u001b[0;34m=\u001b[0m \u001b[0mresp\u001b[0m\u001b[0;34m.\u001b[0m\u001b[0mstatus\u001b[0m\u001b[0;34m\u001b[0m\u001b[0;34m\u001b[0m\u001b[0m\n",
      "\u001b[0;32m/opt/miniconda3/lib/python3.9/site-packages/urllib3/request.py\u001b[0m in \u001b[0;36mrequest\u001b[0;34m(self, method, url, fields, headers, **urlopen_kw)\u001b[0m\n\u001b[1;32m     76\u001b[0m             )\n\u001b[1;32m     77\u001b[0m         \u001b[0;32melse\u001b[0m\u001b[0;34m:\u001b[0m\u001b[0;34m\u001b[0m\u001b[0;34m\u001b[0m\u001b[0m\n\u001b[0;32m---> 78\u001b[0;31m             return self.request_encode_body(\n\u001b[0m\u001b[1;32m     79\u001b[0m                 \u001b[0mmethod\u001b[0m\u001b[0;34m,\u001b[0m \u001b[0murl\u001b[0m\u001b[0;34m,\u001b[0m \u001b[0mfields\u001b[0m\u001b[0;34m=\u001b[0m\u001b[0mfields\u001b[0m\u001b[0;34m,\u001b[0m \u001b[0mheaders\u001b[0m\u001b[0;34m=\u001b[0m\u001b[0mheaders\u001b[0m\u001b[0;34m,\u001b[0m \u001b[0;34m**\u001b[0m\u001b[0murlopen_kw\u001b[0m\u001b[0;34m\u001b[0m\u001b[0;34m\u001b[0m\u001b[0m\n\u001b[1;32m     80\u001b[0m             )\n",
      "\u001b[0;32m/opt/miniconda3/lib/python3.9/site-packages/urllib3/request.py\u001b[0m in \u001b[0;36mrequest_encode_body\u001b[0;34m(self, method, url, fields, headers, encode_multipart, multipart_boundary, **urlopen_kw)\u001b[0m\n\u001b[1;32m    168\u001b[0m         \u001b[0mextra_kw\u001b[0m\u001b[0;34m.\u001b[0m\u001b[0mupdate\u001b[0m\u001b[0;34m(\u001b[0m\u001b[0murlopen_kw\u001b[0m\u001b[0;34m)\u001b[0m\u001b[0;34m\u001b[0m\u001b[0;34m\u001b[0m\u001b[0m\n\u001b[1;32m    169\u001b[0m \u001b[0;34m\u001b[0m\u001b[0m\n\u001b[0;32m--> 170\u001b[0;31m         \u001b[0;32mreturn\u001b[0m \u001b[0mself\u001b[0m\u001b[0;34m.\u001b[0m\u001b[0murlopen\u001b[0m\u001b[0;34m(\u001b[0m\u001b[0mmethod\u001b[0m\u001b[0;34m,\u001b[0m \u001b[0murl\u001b[0m\u001b[0;34m,\u001b[0m \u001b[0;34m**\u001b[0m\u001b[0mextra_kw\u001b[0m\u001b[0;34m)\u001b[0m\u001b[0;34m\u001b[0m\u001b[0;34m\u001b[0m\u001b[0m\n\u001b[0m",
      "\u001b[0;32m/opt/miniconda3/lib/python3.9/site-packages/urllib3/poolmanager.py\u001b[0m in \u001b[0;36murlopen\u001b[0;34m(self, method, url, redirect, **kw)\u001b[0m\n\u001b[1;32m    373\u001b[0m             \u001b[0mresponse\u001b[0m \u001b[0;34m=\u001b[0m \u001b[0mconn\u001b[0m\u001b[0;34m.\u001b[0m\u001b[0murlopen\u001b[0m\u001b[0;34m(\u001b[0m\u001b[0mmethod\u001b[0m\u001b[0;34m,\u001b[0m \u001b[0murl\u001b[0m\u001b[0;34m,\u001b[0m \u001b[0;34m**\u001b[0m\u001b[0mkw\u001b[0m\u001b[0;34m)\u001b[0m\u001b[0;34m\u001b[0m\u001b[0;34m\u001b[0m\u001b[0m\n\u001b[1;32m    374\u001b[0m         \u001b[0;32melse\u001b[0m\u001b[0;34m:\u001b[0m\u001b[0;34m\u001b[0m\u001b[0;34m\u001b[0m\u001b[0m\n\u001b[0;32m--> 375\u001b[0;31m             \u001b[0mresponse\u001b[0m \u001b[0;34m=\u001b[0m \u001b[0mconn\u001b[0m\u001b[0;34m.\u001b[0m\u001b[0murlopen\u001b[0m\u001b[0;34m(\u001b[0m\u001b[0mmethod\u001b[0m\u001b[0;34m,\u001b[0m \u001b[0mu\u001b[0m\u001b[0;34m.\u001b[0m\u001b[0mrequest_uri\u001b[0m\u001b[0;34m,\u001b[0m \u001b[0;34m**\u001b[0m\u001b[0mkw\u001b[0m\u001b[0;34m)\u001b[0m\u001b[0;34m\u001b[0m\u001b[0;34m\u001b[0m\u001b[0m\n\u001b[0m\u001b[1;32m    376\u001b[0m \u001b[0;34m\u001b[0m\u001b[0m\n\u001b[1;32m    377\u001b[0m         \u001b[0mredirect_location\u001b[0m \u001b[0;34m=\u001b[0m \u001b[0mredirect\u001b[0m \u001b[0;32mand\u001b[0m \u001b[0mresponse\u001b[0m\u001b[0;34m.\u001b[0m\u001b[0mget_redirect_location\u001b[0m\u001b[0;34m(\u001b[0m\u001b[0;34m)\u001b[0m\u001b[0;34m\u001b[0m\u001b[0;34m\u001b[0m\u001b[0m\n",
      "\u001b[0;32m/opt/miniconda3/lib/python3.9/site-packages/urllib3/connectionpool.py\u001b[0m in \u001b[0;36murlopen\u001b[0;34m(self, method, url, body, headers, retries, redirect, assert_same_host, timeout, pool_timeout, release_conn, chunked, body_pos, **response_kw)\u001b[0m\n\u001b[1;32m    697\u001b[0m \u001b[0;34m\u001b[0m\u001b[0m\n\u001b[1;32m    698\u001b[0m             \u001b[0;31m# Make the request on the httplib connection object.\u001b[0m\u001b[0;34m\u001b[0m\u001b[0;34m\u001b[0m\u001b[0;34m\u001b[0m\u001b[0m\n\u001b[0;32m--> 699\u001b[0;31m             httplib_response = self._make_request(\n\u001b[0m\u001b[1;32m    700\u001b[0m                 \u001b[0mconn\u001b[0m\u001b[0;34m,\u001b[0m\u001b[0;34m\u001b[0m\u001b[0;34m\u001b[0m\u001b[0m\n\u001b[1;32m    701\u001b[0m                 \u001b[0mmethod\u001b[0m\u001b[0;34m,\u001b[0m\u001b[0;34m\u001b[0m\u001b[0;34m\u001b[0m\u001b[0m\n",
      "\u001b[0;32m/opt/miniconda3/lib/python3.9/site-packages/urllib3/connectionpool.py\u001b[0m in \u001b[0;36m_make_request\u001b[0;34m(self, conn, method, url, timeout, chunked, **httplib_request_kw)\u001b[0m\n\u001b[1;32m    443\u001b[0m                     \u001b[0;31m# Python 3 (including for exceptions like SystemExit).\u001b[0m\u001b[0;34m\u001b[0m\u001b[0;34m\u001b[0m\u001b[0;34m\u001b[0m\u001b[0m\n\u001b[1;32m    444\u001b[0m                     \u001b[0;31m# Otherwise it looks like a bug in the code.\u001b[0m\u001b[0;34m\u001b[0m\u001b[0;34m\u001b[0m\u001b[0;34m\u001b[0m\u001b[0m\n\u001b[0;32m--> 445\u001b[0;31m                     \u001b[0msix\u001b[0m\u001b[0;34m.\u001b[0m\u001b[0mraise_from\u001b[0m\u001b[0;34m(\u001b[0m\u001b[0me\u001b[0m\u001b[0;34m,\u001b[0m \u001b[0;32mNone\u001b[0m\u001b[0;34m)\u001b[0m\u001b[0;34m\u001b[0m\u001b[0;34m\u001b[0m\u001b[0m\n\u001b[0m\u001b[1;32m    446\u001b[0m         \u001b[0;32mexcept\u001b[0m \u001b[0;34m(\u001b[0m\u001b[0mSocketTimeout\u001b[0m\u001b[0;34m,\u001b[0m \u001b[0mBaseSSLError\u001b[0m\u001b[0;34m,\u001b[0m \u001b[0mSocketError\u001b[0m\u001b[0;34m)\u001b[0m \u001b[0;32mas\u001b[0m \u001b[0me\u001b[0m\u001b[0;34m:\u001b[0m\u001b[0;34m\u001b[0m\u001b[0;34m\u001b[0m\u001b[0m\n\u001b[1;32m    447\u001b[0m             \u001b[0mself\u001b[0m\u001b[0;34m.\u001b[0m\u001b[0m_raise_timeout\u001b[0m\u001b[0;34m(\u001b[0m\u001b[0merr\u001b[0m\u001b[0;34m=\u001b[0m\u001b[0me\u001b[0m\u001b[0;34m,\u001b[0m \u001b[0murl\u001b[0m\u001b[0;34m=\u001b[0m\u001b[0murl\u001b[0m\u001b[0;34m,\u001b[0m \u001b[0mtimeout_value\u001b[0m\u001b[0;34m=\u001b[0m\u001b[0mread_timeout\u001b[0m\u001b[0;34m)\u001b[0m\u001b[0;34m\u001b[0m\u001b[0;34m\u001b[0m\u001b[0m\n",
      "\u001b[0;32m/opt/miniconda3/lib/python3.9/site-packages/urllib3/packages/six.py\u001b[0m in \u001b[0;36mraise_from\u001b[0;34m(value, from_value)\u001b[0m\n",
      "\u001b[0;32m/opt/miniconda3/lib/python3.9/site-packages/urllib3/connectionpool.py\u001b[0m in \u001b[0;36m_make_request\u001b[0;34m(self, conn, method, url, timeout, chunked, **httplib_request_kw)\u001b[0m\n\u001b[1;32m    438\u001b[0m                 \u001b[0;31m# Python 3\u001b[0m\u001b[0;34m\u001b[0m\u001b[0;34m\u001b[0m\u001b[0;34m\u001b[0m\u001b[0m\n\u001b[1;32m    439\u001b[0m                 \u001b[0;32mtry\u001b[0m\u001b[0;34m:\u001b[0m\u001b[0;34m\u001b[0m\u001b[0;34m\u001b[0m\u001b[0m\n\u001b[0;32m--> 440\u001b[0;31m                     \u001b[0mhttplib_response\u001b[0m \u001b[0;34m=\u001b[0m \u001b[0mconn\u001b[0m\u001b[0;34m.\u001b[0m\u001b[0mgetresponse\u001b[0m\u001b[0;34m(\u001b[0m\u001b[0;34m)\u001b[0m\u001b[0;34m\u001b[0m\u001b[0;34m\u001b[0m\u001b[0m\n\u001b[0m\u001b[1;32m    441\u001b[0m                 \u001b[0;32mexcept\u001b[0m \u001b[0mBaseException\u001b[0m \u001b[0;32mas\u001b[0m \u001b[0me\u001b[0m\u001b[0;34m:\u001b[0m\u001b[0;34m\u001b[0m\u001b[0;34m\u001b[0m\u001b[0m\n\u001b[1;32m    442\u001b[0m                     \u001b[0;31m# Remove the TypeError from the exception chain in\u001b[0m\u001b[0;34m\u001b[0m\u001b[0;34m\u001b[0m\u001b[0;34m\u001b[0m\u001b[0m\n",
      "\u001b[0;32m/opt/miniconda3/lib/python3.9/http/client.py\u001b[0m in \u001b[0;36mgetresponse\u001b[0;34m(self)\u001b[0m\n\u001b[1;32m   1345\u001b[0m         \u001b[0;32mtry\u001b[0m\u001b[0;34m:\u001b[0m\u001b[0;34m\u001b[0m\u001b[0;34m\u001b[0m\u001b[0m\n\u001b[1;32m   1346\u001b[0m             \u001b[0;32mtry\u001b[0m\u001b[0;34m:\u001b[0m\u001b[0;34m\u001b[0m\u001b[0;34m\u001b[0m\u001b[0m\n\u001b[0;32m-> 1347\u001b[0;31m                 \u001b[0mresponse\u001b[0m\u001b[0;34m.\u001b[0m\u001b[0mbegin\u001b[0m\u001b[0;34m(\u001b[0m\u001b[0;34m)\u001b[0m\u001b[0;34m\u001b[0m\u001b[0;34m\u001b[0m\u001b[0m\n\u001b[0m\u001b[1;32m   1348\u001b[0m             \u001b[0;32mexcept\u001b[0m \u001b[0mConnectionError\u001b[0m\u001b[0;34m:\u001b[0m\u001b[0;34m\u001b[0m\u001b[0;34m\u001b[0m\u001b[0m\n\u001b[1;32m   1349\u001b[0m                 \u001b[0mself\u001b[0m\u001b[0;34m.\u001b[0m\u001b[0mclose\u001b[0m\u001b[0;34m(\u001b[0m\u001b[0;34m)\u001b[0m\u001b[0;34m\u001b[0m\u001b[0;34m\u001b[0m\u001b[0m\n",
      "\u001b[0;32m/opt/miniconda3/lib/python3.9/http/client.py\u001b[0m in \u001b[0;36mbegin\u001b[0;34m(self)\u001b[0m\n\u001b[1;32m    305\u001b[0m         \u001b[0;31m# read until we get a non-100 response\u001b[0m\u001b[0;34m\u001b[0m\u001b[0;34m\u001b[0m\u001b[0;34m\u001b[0m\u001b[0m\n\u001b[1;32m    306\u001b[0m         \u001b[0;32mwhile\u001b[0m \u001b[0;32mTrue\u001b[0m\u001b[0;34m:\u001b[0m\u001b[0;34m\u001b[0m\u001b[0;34m\u001b[0m\u001b[0m\n\u001b[0;32m--> 307\u001b[0;31m             \u001b[0mversion\u001b[0m\u001b[0;34m,\u001b[0m \u001b[0mstatus\u001b[0m\u001b[0;34m,\u001b[0m \u001b[0mreason\u001b[0m \u001b[0;34m=\u001b[0m \u001b[0mself\u001b[0m\u001b[0;34m.\u001b[0m\u001b[0m_read_status\u001b[0m\u001b[0;34m(\u001b[0m\u001b[0;34m)\u001b[0m\u001b[0;34m\u001b[0m\u001b[0;34m\u001b[0m\u001b[0m\n\u001b[0m\u001b[1;32m    308\u001b[0m             \u001b[0;32mif\u001b[0m \u001b[0mstatus\u001b[0m \u001b[0;34m!=\u001b[0m \u001b[0mCONTINUE\u001b[0m\u001b[0;34m:\u001b[0m\u001b[0;34m\u001b[0m\u001b[0;34m\u001b[0m\u001b[0m\n\u001b[1;32m    309\u001b[0m                 \u001b[0;32mbreak\u001b[0m\u001b[0;34m\u001b[0m\u001b[0;34m\u001b[0m\u001b[0m\n",
      "\u001b[0;32m/opt/miniconda3/lib/python3.9/http/client.py\u001b[0m in \u001b[0;36m_read_status\u001b[0;34m(self)\u001b[0m\n\u001b[1;32m    266\u001b[0m \u001b[0;34m\u001b[0m\u001b[0m\n\u001b[1;32m    267\u001b[0m     \u001b[0;32mdef\u001b[0m \u001b[0m_read_status\u001b[0m\u001b[0;34m(\u001b[0m\u001b[0mself\u001b[0m\u001b[0;34m)\u001b[0m\u001b[0;34m:\u001b[0m\u001b[0;34m\u001b[0m\u001b[0;34m\u001b[0m\u001b[0m\n\u001b[0;32m--> 268\u001b[0;31m         \u001b[0mline\u001b[0m \u001b[0;34m=\u001b[0m \u001b[0mstr\u001b[0m\u001b[0;34m(\u001b[0m\u001b[0mself\u001b[0m\u001b[0;34m.\u001b[0m\u001b[0mfp\u001b[0m\u001b[0;34m.\u001b[0m\u001b[0mreadline\u001b[0m\u001b[0;34m(\u001b[0m\u001b[0m_MAXLINE\u001b[0m \u001b[0;34m+\u001b[0m \u001b[0;36m1\u001b[0m\u001b[0;34m)\u001b[0m\u001b[0;34m,\u001b[0m \u001b[0;34m\"iso-8859-1\"\u001b[0m\u001b[0;34m)\u001b[0m\u001b[0;34m\u001b[0m\u001b[0;34m\u001b[0m\u001b[0m\n\u001b[0m\u001b[1;32m    269\u001b[0m         \u001b[0;32mif\u001b[0m \u001b[0mlen\u001b[0m\u001b[0;34m(\u001b[0m\u001b[0mline\u001b[0m\u001b[0;34m)\u001b[0m \u001b[0;34m>\u001b[0m \u001b[0m_MAXLINE\u001b[0m\u001b[0;34m:\u001b[0m\u001b[0;34m\u001b[0m\u001b[0;34m\u001b[0m\u001b[0m\n\u001b[1;32m    270\u001b[0m             \u001b[0;32mraise\u001b[0m \u001b[0mLineTooLong\u001b[0m\u001b[0;34m(\u001b[0m\u001b[0;34m\"status line\"\u001b[0m\u001b[0;34m)\u001b[0m\u001b[0;34m\u001b[0m\u001b[0;34m\u001b[0m\u001b[0m\n",
      "\u001b[0;32m/opt/miniconda3/lib/python3.9/socket.py\u001b[0m in \u001b[0;36mreadinto\u001b[0;34m(self, b)\u001b[0m\n\u001b[1;32m    702\u001b[0m         \u001b[0;32mwhile\u001b[0m \u001b[0;32mTrue\u001b[0m\u001b[0;34m:\u001b[0m\u001b[0;34m\u001b[0m\u001b[0;34m\u001b[0m\u001b[0m\n\u001b[1;32m    703\u001b[0m             \u001b[0;32mtry\u001b[0m\u001b[0;34m:\u001b[0m\u001b[0;34m\u001b[0m\u001b[0;34m\u001b[0m\u001b[0m\n\u001b[0;32m--> 704\u001b[0;31m                 \u001b[0;32mreturn\u001b[0m \u001b[0mself\u001b[0m\u001b[0;34m.\u001b[0m\u001b[0m_sock\u001b[0m\u001b[0;34m.\u001b[0m\u001b[0mrecv_into\u001b[0m\u001b[0;34m(\u001b[0m\u001b[0mb\u001b[0m\u001b[0;34m)\u001b[0m\u001b[0;34m\u001b[0m\u001b[0;34m\u001b[0m\u001b[0m\n\u001b[0m\u001b[1;32m    705\u001b[0m             \u001b[0;32mexcept\u001b[0m \u001b[0mtimeout\u001b[0m\u001b[0;34m:\u001b[0m\u001b[0;34m\u001b[0m\u001b[0;34m\u001b[0m\u001b[0m\n\u001b[1;32m    706\u001b[0m                 \u001b[0mself\u001b[0m\u001b[0;34m.\u001b[0m\u001b[0m_timeout_occurred\u001b[0m \u001b[0;34m=\u001b[0m \u001b[0;32mTrue\u001b[0m\u001b[0;34m\u001b[0m\u001b[0;34m\u001b[0m\u001b[0m\n",
      "\u001b[0;31mKeyboardInterrupt\u001b[0m: "
     ]
    }
   ],
   "source": [
    "driver = webdriver.Chrome() \n",
    "URL = \"https://www.zoopla.co.uk/new-homes/property/london/?q=London&results_sort=newest_listings&search_source=new-homes&page_size=25&pn=1&view_type=list\"\n",
    "driver.get(URL)\n",
    "accept_cookies = driver.find_elements_by_xpath('//button[@data-responsibility=\"acceptAll\"]')\n",
    "for button in accept_cookies:\n",
    "    if button.text == \"Accept all cookies\":\n",
    "        relevant_button = button\n",
    "\n",
    "relevant_button.click()\n",
    "prop_container = driver.find_element_by_xpath('//div[@class=\"css-kdnpqc-ListingsContainer earci3d2\"]')\n",
    "properties = prop_container.find_elements_by_xpath('./div')\n",
    "num_props = len(properties)\n",
    "for i in range(num_props):\n",
    "    prop_container = driver.find_element_by_xpath('//div[@class=\"css-kdnpqc-ListingsContainer earci3d2\"]')\n",
    "    house = prop_container.find_elements_by_xpath('./div')[i]\n",
    "    house.click()\n",
    "    time.sleep(5)\n",
    "    driver.back()\n"
   ]
  },
  {
   "cell_type": "code",
   "execution_count": 16,
   "metadata": {},
   "outputs": [
    {
     "ename": "NameError",
     "evalue": "name 'abstracasdsa' is not defined",
     "output_type": "error",
     "traceback": [
      "\u001b[0;31m---------------------------------------------------------------------------\u001b[0m",
      "\u001b[0;31mNameError\u001b[0m                                 Traceback (most recent call last)",
      "\u001b[0;32m<ipython-input-16-1c2e377862bc>\u001b[0m in \u001b[0;36m<module>\u001b[0;34m\u001b[0m\n\u001b[1;32m     42\u001b[0m     \u001b[0;32mreturn\u001b[0m \u001b[0mdata\u001b[0m\u001b[0;34m\u001b[0m\u001b[0;34m\u001b[0m\u001b[0m\n\u001b[1;32m     43\u001b[0m \u001b[0;34m\u001b[0m\u001b[0m\n\u001b[0;32m---> 44\u001b[0;31m \u001b[0mproperties\u001b[0m \u001b[0;34m=\u001b[0m \u001b[0mget_properties\u001b[0m\u001b[0;34m(\u001b[0m\u001b[0;34m)\u001b[0m\u001b[0;34m\u001b[0m\u001b[0;34m\u001b[0m\u001b[0m\n\u001b[0m",
      "\u001b[0;32m<ipython-input-16-1c2e377862bc>\u001b[0m in \u001b[0;36mget_properties\u001b[0;34m()\u001b[0m\n\u001b[1;32m     15\u001b[0m \u001b[0;34m\u001b[0m\u001b[0m\n\u001b[1;32m     16\u001b[0m         \u001b[0;31m## Find the number of bedrooms and append it to the dictionary\u001b[0m\u001b[0;34m\u001b[0m\u001b[0;34m\u001b[0m\u001b[0;34m\u001b[0m\u001b[0m\n\u001b[0;32m---> 17\u001b[0;31m         \u001b[0mprice_elem\u001b[0m \u001b[0;34m=\u001b[0m \u001b[0mabstracasdsa\u001b[0m\u001b[0;34m\u001b[0m\u001b[0;34m\u001b[0m\u001b[0m\n\u001b[0m\u001b[1;32m     18\u001b[0m         \u001b[0mnum_bed\u001b[0m \u001b[0;34m=\u001b[0m \u001b[0masd\u001b[0m\u001b[0;34m\u001b[0m\u001b[0;34m\u001b[0m\u001b[0m\n\u001b[1;32m     19\u001b[0m         \u001b[0mbedrooms_elem\u001b[0m \u001b[0;34m=\u001b[0m \u001b[0mcxzv\u001b[0m\u001b[0;34m\u001b[0m\u001b[0;34m\u001b[0m\u001b[0m\n",
      "\u001b[0;31mNameError\u001b[0m: name 'abstracasdsa' is not defined"
     ]
    }
   ],
   "source": [
    "import time\n",
    "def get_properties():\n",
    "\n",
    "    driver = load_and_accept_cookies()\n",
    "    \n",
    "    data = {\"sale_price\": [], \"num_bedrooms\": [], \"sqft\": [], \"description\": [], \"address\": []}\n",
    "    prop_container = driver.find_element_by_xpath('//div[@class=\"css-kdnpqc-ListingsContainer earci3d2\"]')\n",
    "    prop_list = prop_container.find_elements_by_xpath('./div')\n",
    "    num_props = len(prop_list)\n",
    "    for i in range(num_props):\n",
    "        house_list = driver.find_element_by_xpath('//*[@id=\"__next\"]/div[5]/div[2]/main/div[2]/div[2]')\n",
    "        house = house_list.find_elements_by_xpath('./div')[i]\n",
    "        '//*[@id=\"listing_59472554\"]/div/div[1]/div[2]/a[2]/div[1]/div/p[2]'\n",
    "        house.click()\n",
    "        time.sleep(5)\n",
    "        \n",
    "        ## Find the number of bedrooms and append it to the dictionary\n",
    "        price_elem = abstracasdsa\n",
    "        num_bed = asd\n",
    "        bedrooms_elem = cxzv\n",
    "        num_beds = cvxbb\n",
    "        data[\"sale_price\"].append(price_elem.text)\n",
    "        data[\"num_bedrooms\"].append(num_beds)\n",
    "\n",
    "        try:\n",
    "            ## Find the number of square footage and append it to the dictionary\n",
    "            sqft_elem = regdf\n",
    "            data[\"sqft\"].append(sqft_elem.text)\n",
    "        except:\n",
    "            data[\"sqft\"].append(\"None\")\n",
    "\n",
    "\n",
    "        ## Find the description and append it to the dictionary\n",
    "        description_elem = sdfgdg\n",
    "        data[\"description\"].append(description_elem.text)\n",
    "\n",
    "        ## Find the address\n",
    "        address_elem = dfhgb\n",
    "        data[\"address\"].append(address_elem.text)\n",
    "        # Go to the previous page\n",
    "        driver.back()\n",
    "\n",
    "    return data\n",
    "\n",
    "properties = get_properties()"
   ]
  },
  {
   "cell_type": "code",
   "execution_count": null,
   "metadata": {},
   "outputs": [],
   "source": [
    "print(properties)"
   ]
  },
  {
   "cell_type": "markdown",
   "metadata": {},
   "source": [
    "### Challenge: Extend the function above to navigate to the next page and continue the data collection"
   ]
  },
  {
   "cell_type": "code",
   "execution_count": null,
   "metadata": {},
   "outputs": [],
   "source": [
    "driver.quit()"
   ]
  },
  {
   "cell_type": "markdown",
   "metadata": {},
   "source": [
    "In the challenge above, you clicked on every link. Another way to achieve this is obtaining a list with all the links of the properties, and once you obtained it, you can iterate through that list, and visit each link individually using the `.get()` method.\n",
    "\n",
    "Give it a try, and if you get stuck, you can check the `zoopla_scraper.py` file in examples."
   ]
  },
  {
   "cell_type": "markdown",
   "metadata": {},
   "source": []
  }
 ],
 "metadata": {
  "interpreter": {
   "hash": "569d6b7e9215e11aba41c6454007e5c1b78bad7df09dab765d8cf00362c40f03"
  },
  "kernelspec": {
   "display_name": "Python 3",
   "language": "python",
   "name": "python3"
  },
  "language_info": {
   "codemirror_mode": {
    "name": "ipython",
    "version": 3
   },
   "file_extension": ".py",
   "mimetype": "text/x-python",
   "name": "python",
   "nbconvert_exporter": "python",
   "pygments_lexer": "ipython3",
   "version": "3.9.6"
  }
 },
 "nbformat": 4,
 "nbformat_minor": 4
}
